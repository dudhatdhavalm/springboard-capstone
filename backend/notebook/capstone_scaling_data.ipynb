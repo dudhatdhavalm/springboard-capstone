{
 "cells": [
  {
   "cell_type": "code",
   "execution_count": 1,
   "metadata": {},
   "outputs": [],
   "source": [
    "import pandas as pd\n",
    "import numpy as np"
   ]
  },
  {
   "cell_type": "code",
   "execution_count": 2,
   "metadata": {},
   "outputs": [],
   "source": [
    "df = pd.read_pickle(\"../data/raw/not_null.pkl\")"
   ]
  },
  {
   "cell_type": "code",
   "execution_count": 3,
   "metadata": {},
   "outputs": [
    {
     "data": {
      "text/html": [
       "<div>\n",
       "<style scoped>\n",
       "    .dataframe tbody tr th:only-of-type {\n",
       "        vertical-align: middle;\n",
       "    }\n",
       "\n",
       "    .dataframe tbody tr th {\n",
       "        vertical-align: top;\n",
       "    }\n",
       "\n",
       "    .dataframe thead th {\n",
       "        text-align: right;\n",
       "    }\n",
       "</style>\n",
       "<table border=\"1\" class=\"dataframe\">\n",
       "  <thead>\n",
       "    <tr style=\"text-align: right;\">\n",
       "      <th></th>\n",
       "      <th>id</th>\n",
       "      <th>loan_amnt</th>\n",
       "      <th>funded_amnt</th>\n",
       "      <th>funded_amnt_inv</th>\n",
       "      <th>term</th>\n",
       "      <th>int_rate</th>\n",
       "      <th>installment</th>\n",
       "      <th>grade</th>\n",
       "      <th>sub_grade</th>\n",
       "      <th>emp_title</th>\n",
       "      <th>...</th>\n",
       "      <th>percent_bc_gt_75</th>\n",
       "      <th>pub_rec_bankruptcies</th>\n",
       "      <th>tax_liens</th>\n",
       "      <th>tot_hi_cred_lim</th>\n",
       "      <th>total_bal_ex_mort</th>\n",
       "      <th>total_bc_limit</th>\n",
       "      <th>total_il_high_credit_limit</th>\n",
       "      <th>hardship_flag</th>\n",
       "      <th>disbursement_method</th>\n",
       "      <th>debt_settlement_flag</th>\n",
       "    </tr>\n",
       "  </thead>\n",
       "  <tbody>\n",
       "    <tr>\n",
       "      <th>0</th>\n",
       "      <td>68407277</td>\n",
       "      <td>3600.0</td>\n",
       "      <td>3600.0</td>\n",
       "      <td>3600.0</td>\n",
       "      <td>36</td>\n",
       "      <td>13.99</td>\n",
       "      <td>123.03</td>\n",
       "      <td>C</td>\n",
       "      <td>C4</td>\n",
       "      <td>leadman</td>\n",
       "      <td>...</td>\n",
       "      <td>0.0</td>\n",
       "      <td>0.0</td>\n",
       "      <td>0.0</td>\n",
       "      <td>178050.0</td>\n",
       "      <td>7746.0</td>\n",
       "      <td>2400.0</td>\n",
       "      <td>13734.0</td>\n",
       "      <td>N</td>\n",
       "      <td>Cash</td>\n",
       "      <td>N</td>\n",
       "    </tr>\n",
       "    <tr>\n",
       "      <th>1</th>\n",
       "      <td>68355089</td>\n",
       "      <td>24700.0</td>\n",
       "      <td>24700.0</td>\n",
       "      <td>24700.0</td>\n",
       "      <td>36</td>\n",
       "      <td>11.99</td>\n",
       "      <td>820.28</td>\n",
       "      <td>C</td>\n",
       "      <td>C1</td>\n",
       "      <td>Engineer</td>\n",
       "      <td>...</td>\n",
       "      <td>7.7</td>\n",
       "      <td>0.0</td>\n",
       "      <td>0.0</td>\n",
       "      <td>314017.0</td>\n",
       "      <td>39475.0</td>\n",
       "      <td>79300.0</td>\n",
       "      <td>24667.0</td>\n",
       "      <td>N</td>\n",
       "      <td>Cash</td>\n",
       "      <td>N</td>\n",
       "    </tr>\n",
       "    <tr>\n",
       "      <th>2</th>\n",
       "      <td>68341763</td>\n",
       "      <td>20000.0</td>\n",
       "      <td>20000.0</td>\n",
       "      <td>20000.0</td>\n",
       "      <td>60</td>\n",
       "      <td>10.78</td>\n",
       "      <td>432.66</td>\n",
       "      <td>B</td>\n",
       "      <td>B4</td>\n",
       "      <td>truck driver</td>\n",
       "      <td>...</td>\n",
       "      <td>50.0</td>\n",
       "      <td>0.0</td>\n",
       "      <td>0.0</td>\n",
       "      <td>218418.0</td>\n",
       "      <td>18696.0</td>\n",
       "      <td>6200.0</td>\n",
       "      <td>14877.0</td>\n",
       "      <td>N</td>\n",
       "      <td>Cash</td>\n",
       "      <td>N</td>\n",
       "    </tr>\n",
       "    <tr>\n",
       "      <th>4</th>\n",
       "      <td>68476807</td>\n",
       "      <td>10400.0</td>\n",
       "      <td>10400.0</td>\n",
       "      <td>10400.0</td>\n",
       "      <td>60</td>\n",
       "      <td>22.45</td>\n",
       "      <td>289.91</td>\n",
       "      <td>F</td>\n",
       "      <td>F1</td>\n",
       "      <td>Contract Specialist</td>\n",
       "      <td>...</td>\n",
       "      <td>60.0</td>\n",
       "      <td>0.0</td>\n",
       "      <td>0.0</td>\n",
       "      <td>439570.0</td>\n",
       "      <td>95768.0</td>\n",
       "      <td>20300.0</td>\n",
       "      <td>88097.0</td>\n",
       "      <td>N</td>\n",
       "      <td>Cash</td>\n",
       "      <td>N</td>\n",
       "    </tr>\n",
       "    <tr>\n",
       "      <th>5</th>\n",
       "      <td>68426831</td>\n",
       "      <td>11950.0</td>\n",
       "      <td>11950.0</td>\n",
       "      <td>11950.0</td>\n",
       "      <td>36</td>\n",
       "      <td>13.44</td>\n",
       "      <td>405.18</td>\n",
       "      <td>C</td>\n",
       "      <td>C3</td>\n",
       "      <td>Veterinary Tecnician</td>\n",
       "      <td>...</td>\n",
       "      <td>100.0</td>\n",
       "      <td>0.0</td>\n",
       "      <td>0.0</td>\n",
       "      <td>16900.0</td>\n",
       "      <td>12798.0</td>\n",
       "      <td>9400.0</td>\n",
       "      <td>4000.0</td>\n",
       "      <td>N</td>\n",
       "      <td>Cash</td>\n",
       "      <td>N</td>\n",
       "    </tr>\n",
       "  </tbody>\n",
       "</table>\n",
       "<p>5 rows × 87 columns</p>\n",
       "</div>"
      ],
      "text/plain": [
       "         id  loan_amnt  funded_amnt  funded_amnt_inv  term  int_rate  \\\n",
       "0  68407277     3600.0       3600.0           3600.0    36     13.99   \n",
       "1  68355089    24700.0      24700.0          24700.0    36     11.99   \n",
       "2  68341763    20000.0      20000.0          20000.0    60     10.78   \n",
       "4  68476807    10400.0      10400.0          10400.0    60     22.45   \n",
       "5  68426831    11950.0      11950.0          11950.0    36     13.44   \n",
       "\n",
       "   installment grade sub_grade             emp_title  ... percent_bc_gt_75  \\\n",
       "0       123.03     C        C4               leadman  ...              0.0   \n",
       "1       820.28     C        C1              Engineer  ...              7.7   \n",
       "2       432.66     B        B4          truck driver  ...             50.0   \n",
       "4       289.91     F        F1   Contract Specialist  ...             60.0   \n",
       "5       405.18     C        C3  Veterinary Tecnician  ...            100.0   \n",
       "\n",
       "  pub_rec_bankruptcies  tax_liens tot_hi_cred_lim total_bal_ex_mort  \\\n",
       "0                  0.0        0.0        178050.0            7746.0   \n",
       "1                  0.0        0.0        314017.0           39475.0   \n",
       "2                  0.0        0.0        218418.0           18696.0   \n",
       "4                  0.0        0.0        439570.0           95768.0   \n",
       "5                  0.0        0.0         16900.0           12798.0   \n",
       "\n",
       "  total_bc_limit total_il_high_credit_limit hardship_flag disbursement_method  \\\n",
       "0         2400.0                    13734.0             N                Cash   \n",
       "1        79300.0                    24667.0             N                Cash   \n",
       "2         6200.0                    14877.0             N                Cash   \n",
       "4        20300.0                    88097.0             N                Cash   \n",
       "5         9400.0                     4000.0             N                Cash   \n",
       "\n",
       "  debt_settlement_flag  \n",
       "0                    N  \n",
       "1                    N  \n",
       "2                    N  \n",
       "4                    N  \n",
       "5                    N  \n",
       "\n",
       "[5 rows x 87 columns]"
      ]
     },
     "execution_count": 3,
     "metadata": {},
     "output_type": "execute_result"
    }
   ],
   "source": [
    "df.head()"
   ]
  },
  {
   "cell_type": "code",
   "execution_count": 4,
   "metadata": {},
   "outputs": [
    {
     "name": "stdout",
     "output_type": "stream",
     "text": [
      "<class 'pandas.core.frame.DataFrame'>\n",
      "Int64Index: 1230577 entries, 0 to 2260697\n",
      "Data columns (total 87 columns):\n",
      " #   Column                      Non-Null Count    Dtype   \n",
      "---  ------                      --------------    -----   \n",
      " 0   id                          1230577 non-null  object  \n",
      " 1   loan_amnt                   1230577 non-null  float64 \n",
      " 2   funded_amnt                 1230577 non-null  float64 \n",
      " 3   funded_amnt_inv             1230577 non-null  float64 \n",
      " 4   term                        1230577 non-null  int64   \n",
      " 5   int_rate                    1230577 non-null  float64 \n",
      " 6   installment                 1230577 non-null  float64 \n",
      " 7   grade                       1230577 non-null  category\n",
      " 8   sub_grade                   1230577 non-null  category\n",
      " 9   emp_title                   1230577 non-null  object  \n",
      " 10  emp_length                  1230577 non-null  category\n",
      " 11  home_ownership              1230577 non-null  category\n",
      " 12  annual_inc                  1230577 non-null  float64 \n",
      " 13  verification_status         1230577 non-null  category\n",
      " 14  loan_status                 1230577 non-null  category\n",
      " 15  pymnt_plan                  1230577 non-null  category\n",
      " 16  purpose                     1230577 non-null  category\n",
      " 17  title                       1230577 non-null  object  \n",
      " 18  zip_code                    1230576 non-null  object  \n",
      " 19  addr_state                  1230577 non-null  category\n",
      " 20  dti                         1230577 non-null  float64 \n",
      " 21  delinq_2yrs                 1230577 non-null  float64 \n",
      " 22  fico_range_low              1230577 non-null  float64 \n",
      " 23  fico_range_high             1230577 non-null  float64 \n",
      " 24  inq_last_6mths              1230577 non-null  float64 \n",
      " 25  open_acc                    1230577 non-null  float64 \n",
      " 26  pub_rec                     1230577 non-null  float64 \n",
      " 27  revol_bal                   1230577 non-null  float64 \n",
      " 28  revol_util                  1230577 non-null  float64 \n",
      " 29  total_acc                   1230577 non-null  float64 \n",
      " 30  initial_list_status         1230577 non-null  category\n",
      " 31  out_prncp                   1230577 non-null  float64 \n",
      " 32  out_prncp_inv               1230577 non-null  float64 \n",
      " 33  total_pymnt                 1230577 non-null  float64 \n",
      " 34  total_pymnt_inv             1230577 non-null  float64 \n",
      " 35  total_rec_prncp             1230577 non-null  float64 \n",
      " 36  total_rec_int               1230577 non-null  float64 \n",
      " 37  total_rec_late_fee          1230577 non-null  float64 \n",
      " 38  recoveries                  1230577 non-null  float64 \n",
      " 39  collection_recovery_fee     1230577 non-null  float64 \n",
      " 40  last_pymnt_amnt             1230577 non-null  float64 \n",
      " 41  last_fico_range_high        1230577 non-null  float64 \n",
      " 42  last_fico_range_low         1230577 non-null  float64 \n",
      " 43  collections_12_mths_ex_med  1230577 non-null  float64 \n",
      " 44  application_type            1230577 non-null  category\n",
      " 45  acc_now_delinq              1230577 non-null  float64 \n",
      " 46  tot_coll_amt                1230577 non-null  float64 \n",
      " 47  tot_cur_bal                 1230577 non-null  float64 \n",
      " 48  total_rev_hi_lim            1230577 non-null  float64 \n",
      " 49  acc_open_past_24mths        1230577 non-null  float64 \n",
      " 50  avg_cur_bal                 1230577 non-null  float64 \n",
      " 51  bc_open_to_buy              1230577 non-null  float64 \n",
      " 52  bc_util                     1230577 non-null  float64 \n",
      " 53  chargeoff_within_12_mths    1230577 non-null  float64 \n",
      " 54  delinq_amnt                 1230577 non-null  float64 \n",
      " 55  mo_sin_old_il_acct          1230577 non-null  float64 \n",
      " 56  mo_sin_old_rev_tl_op        1230577 non-null  float64 \n",
      " 57  mo_sin_rcnt_rev_tl_op       1230577 non-null  float64 \n",
      " 58  mo_sin_rcnt_tl              1230577 non-null  float64 \n",
      " 59  mort_acc                    1230577 non-null  float64 \n",
      " 60  mths_since_recent_bc        1230577 non-null  float64 \n",
      " 61  mths_since_recent_inq       1230577 non-null  float64 \n",
      " 62  num_accts_ever_120_pd       1230577 non-null  float64 \n",
      " 63  num_actv_bc_tl              1230577 non-null  float64 \n",
      " 64  num_actv_rev_tl             1230577 non-null  float64 \n",
      " 65  num_bc_sats                 1230577 non-null  float64 \n",
      " 66  num_bc_tl                   1230577 non-null  float64 \n",
      " 67  num_il_tl                   1230577 non-null  float64 \n",
      " 68  num_op_rev_tl               1230577 non-null  float64 \n",
      " 69  num_rev_accts               1230577 non-null  float64 \n",
      " 70  num_rev_tl_bal_gt_0         1230577 non-null  float64 \n",
      " 71  num_sats                    1230577 non-null  float64 \n",
      " 72  num_tl_120dpd_2m            1230577 non-null  float64 \n",
      " 73  num_tl_30dpd                1230577 non-null  float64 \n",
      " 74  num_tl_90g_dpd_24m          1230577 non-null  float64 \n",
      " 75  num_tl_op_past_12m          1230577 non-null  float64 \n",
      " 76  pct_tl_nvr_dlq              1230577 non-null  float64 \n",
      " 77  percent_bc_gt_75            1230577 non-null  float64 \n",
      " 78  pub_rec_bankruptcies        1230577 non-null  float64 \n",
      " 79  tax_liens                   1230577 non-null  float64 \n",
      " 80  tot_hi_cred_lim             1230577 non-null  float64 \n",
      " 81  total_bal_ex_mort           1230577 non-null  float64 \n",
      " 82  total_bc_limit              1230577 non-null  float64 \n",
      " 83  total_il_high_credit_limit  1230577 non-null  float64 \n",
      " 84  hardship_flag               1230577 non-null  category\n",
      " 85  disbursement_method         1230577 non-null  category\n",
      " 86  debt_settlement_flag        1230577 non-null  category\n",
      "dtypes: category(14), float64(68), int64(1), object(4)\n",
      "memory usage: 711.2+ MB\n"
     ]
    }
   ],
   "source": [
    "df.info()"
   ]
  },
  {
   "cell_type": "code",
   "execution_count": 3,
   "metadata": {},
   "outputs": [],
   "source": [
    "X = df.drop(\"loan_status\", axis = 1)"
   ]
  },
  {
   "cell_type": "code",
   "execution_count": 4,
   "metadata": {},
   "outputs": [],
   "source": [
    "y = df[[\"loan_status\"]] "
   ]
  },
  {
   "cell_type": "code",
   "execution_count": 5,
   "metadata": {},
   "outputs": [],
   "source": [
    "def check_and_append_dummy_to_df(df):\n",
    "    for column in df.columns:        \n",
    "        if df[column].dtype.name == \"category\":\n",
    "            dummy = pd.get_dummies(df[column], prefix=column, prefix_sep=\"_\")\n",
    "            df = pd.concat([df,dummy], axis=1)\n",
    "            df.drop(column, axis=1, inplace=True)\n",
    "    return df"
   ]
  },
  {
   "cell_type": "code",
   "execution_count": 6,
   "metadata": {},
   "outputs": [],
   "source": [
    "X = check_and_append_dummy_to_df(X)"
   ]
  },
  {
   "cell_type": "code",
   "execution_count": 7,
   "metadata": {},
   "outputs": [],
   "source": [
    "final_df = pd.concat([X,y], axis=1)"
   ]
  },
  {
   "cell_type": "code",
   "execution_count": 8,
   "metadata": {},
   "outputs": [],
   "source": [
    "#drop columns\n",
    "drop_column_name = [\"id\", \"title\", \"zip_code\", \"emp_title\"]\n",
    "X.drop(drop_column_name, axis=1, inplace=True)"
   ]
  },
  {
   "cell_type": "code",
   "execution_count": 9,
   "metadata": {},
   "outputs": [
    {
     "name": "stderr",
     "output_type": "stream",
     "text": [
      "/home/d/anaconda3/lib/python3.7/importlib/_bootstrap.py:219: RuntimeWarning: numpy.ufunc size changed, may indicate binary incompatibility. Expected 192 from C header, got 216 from PyObject\n",
      "  return f(*args, **kwds)\n"
     ]
    }
   ],
   "source": [
    "from sklearn.model_selection import train_test_split\n",
    "from sklearn.preprocessing import MinMaxScaler, StandardScaler"
   ]
  },
  {
   "cell_type": "code",
   "execution_count": 10,
   "metadata": {},
   "outputs": [],
   "source": [
    "# scaler = MinMaxScaler()\n",
    "scaler = StandardScaler()"
   ]
  },
  {
   "cell_type": "code",
   "execution_count": 11,
   "metadata": {},
   "outputs": [],
   "source": [
    "transformed = scaler.fit_transform(X)"
   ]
  },
  {
   "cell_type": "code",
   "execution_count": 12,
   "metadata": {},
   "outputs": [],
   "source": [
    "from sklearn.metrics import accuracy_score, classification_report, confusion_matrix, f1_score"
   ]
  },
  {
   "cell_type": "code",
   "execution_count": 13,
   "metadata": {},
   "outputs": [
    {
     "name": "stderr",
     "output_type": "stream",
     "text": [
      "/home/d/anaconda3/lib/python3.7/site-packages/ipykernel_launcher.py:1: SettingWithCopyWarning: \n",
      "A value is trying to be set on a copy of a slice from a DataFrame.\n",
      "Try using .loc[row_indexer,col_indexer] = value instead\n",
      "\n",
      "See the caveats in the documentation: https://pandas.pydata.org/pandas-docs/stable/user_guide/indexing.html#returning-a-view-versus-a-copy\n",
      "  \"\"\"Entry point for launching an IPython kernel.\n"
     ]
    }
   ],
   "source": [
    "y[\"loan_status\"] = y[\"loan_status\"].astype(\"int\")"
   ]
  },
  {
   "cell_type": "code",
   "execution_count": 14,
   "metadata": {},
   "outputs": [],
   "source": [
    "two_d_y = y[\"loan_status\"].values.reshape(-1,1)"
   ]
  },
  {
   "cell_type": "code",
   "execution_count": 15,
   "metadata": {},
   "outputs": [],
   "source": [
    "drop_column_data = df[[\"id\"]]"
   ]
  },
  {
   "cell_type": "code",
   "execution_count": 19,
   "metadata": {},
   "outputs": [
    {
     "data": {
      "text/html": [
       "<div>\n",
       "<style scoped>\n",
       "    .dataframe tbody tr th:only-of-type {\n",
       "        vertical-align: middle;\n",
       "    }\n",
       "\n",
       "    .dataframe tbody tr th {\n",
       "        vertical-align: top;\n",
       "    }\n",
       "\n",
       "    .dataframe thead th {\n",
       "        text-align: right;\n",
       "    }\n",
       "</style>\n",
       "<table border=\"1\" class=\"dataframe\">\n",
       "  <thead>\n",
       "    <tr style=\"text-align: right;\">\n",
       "      <th></th>\n",
       "      <th>id</th>\n",
       "    </tr>\n",
       "  </thead>\n",
       "  <tbody>\n",
       "    <tr>\n",
       "      <th>0</th>\n",
       "      <td>68407277</td>\n",
       "    </tr>\n",
       "    <tr>\n",
       "      <th>1</th>\n",
       "      <td>68355089</td>\n",
       "    </tr>\n",
       "    <tr>\n",
       "      <th>2</th>\n",
       "      <td>68341763</td>\n",
       "    </tr>\n",
       "    <tr>\n",
       "      <th>4</th>\n",
       "      <td>68476807</td>\n",
       "    </tr>\n",
       "    <tr>\n",
       "      <th>5</th>\n",
       "      <td>68426831</td>\n",
       "    </tr>\n",
       "    <tr>\n",
       "      <th>...</th>\n",
       "      <td>...</td>\n",
       "    </tr>\n",
       "    <tr>\n",
       "      <th>2260688</th>\n",
       "      <td>89905081</td>\n",
       "    </tr>\n",
       "    <tr>\n",
       "      <th>2260690</th>\n",
       "      <td>88948836</td>\n",
       "    </tr>\n",
       "    <tr>\n",
       "      <th>2260691</th>\n",
       "      <td>89996426</td>\n",
       "    </tr>\n",
       "    <tr>\n",
       "      <th>2260692</th>\n",
       "      <td>90006534</td>\n",
       "    </tr>\n",
       "    <tr>\n",
       "      <th>2260697</th>\n",
       "      <td>88224441</td>\n",
       "    </tr>\n",
       "  </tbody>\n",
       "</table>\n",
       "<p>1230577 rows × 1 columns</p>\n",
       "</div>"
      ],
      "text/plain": [
       "               id\n",
       "0        68407277\n",
       "1        68355089\n",
       "2        68341763\n",
       "4        68476807\n",
       "5        68426831\n",
       "...           ...\n",
       "2260688  89905081\n",
       "2260690  88948836\n",
       "2260691  89996426\n",
       "2260692  90006534\n",
       "2260697  88224441\n",
       "\n",
       "[1230577 rows x 1 columns]"
      ]
     },
     "execution_count": 19,
     "metadata": {},
     "output_type": "execute_result"
    }
   ],
   "source": [
    "drop_column_data"
   ]
  },
  {
   "cell_type": "code",
   "execution_count": 16,
   "metadata": {},
   "outputs": [
    {
     "data": {
      "text/plain": [
       "(1230577, 1230577)"
      ]
     },
     "execution_count": 16,
     "metadata": {},
     "output_type": "execute_result"
    }
   ],
   "source": [
    "len(drop_column_data), len(transformed)"
   ]
  },
  {
   "cell_type": "code",
   "execution_count": 17,
   "metadata": {},
   "outputs": [],
   "source": [
    "drop_column_data.to_pickle(\"../data/prod/ids.pkl\")"
   ]
  },
  {
   "cell_type": "code",
   "execution_count": 18,
   "metadata": {},
   "outputs": [],
   "source": [
    "final_2d = np.concatenate([transformed, two_d_y], axis=1)"
   ]
  },
  {
   "cell_type": "code",
   "execution_count": 19,
   "metadata": {},
   "outputs": [],
   "source": [
    "final_columns = [*X.columns.values, *y.columns.values]"
   ]
  },
  {
   "cell_type": "code",
   "execution_count": 20,
   "metadata": {},
   "outputs": [],
   "source": [
    "final_df = pd.DataFrame(final_2d, columns=final_columns)"
   ]
  },
  {
   "cell_type": "code",
   "execution_count": 21,
   "metadata": {},
   "outputs": [],
   "source": [
    "final_df.to_pickle(\"../data/prod/scaler_data_standard.pkl\")"
   ]
  }
 ],
 "metadata": {
  "kernelspec": {
   "display_name": "Python 3",
   "language": "python",
   "name": "python3"
  },
  "language_info": {
   "codemirror_mode": {
    "name": "ipython",
    "version": 3
   },
   "file_extension": ".py",
   "mimetype": "text/x-python",
   "name": "python",
   "nbconvert_exporter": "python",
   "pygments_lexer": "ipython3",
   "version": "3.7.4"
  }
 },
 "nbformat": 4,
 "nbformat_minor": 2
}
